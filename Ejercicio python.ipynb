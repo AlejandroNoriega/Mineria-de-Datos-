{
 "cells": [
  {
   "cell_type": "markdown",
   "metadata": {},
   "source": [
    "Ejercicio 1:\n",
    "Realiza una variable con tu matricula y realiza una secuencia de imprimir con tu nombre y tu matricula concatenados."
   ]
  },
  {
   "cell_type": "code",
   "execution_count": 3,
   "metadata": {},
   "outputs": [
    {
     "name": "stdout",
     "output_type": "stream",
     "text": [
      "Miguel Alejandro Noriega Ortega #1798528\n"
     ]
    }
   ],
   "source": [
    "x=\"Miguel Alejandro Noriega Ortega\"\n",
    "y=\"#1798528\"\n",
    "print(x,y)"
   ]
  },
  {
   "cell_type": "markdown",
   "metadata": {},
   "source": [
    "Ejercicio 2:\n",
    "Pidiendo el input del usuario pide dos números y crea una pequeña calculadora con los operadores básicos de suma, resta, multiplicación, división, y exponente.\n"
   ]
  },
  {
   "cell_type": "code",
   "execution_count": 5,
   "metadata": {},
   "outputs": [
    {
     "name": "stdout",
     "output_type": "stream",
     "text": [
      "Introduce un número:10\n",
      "Introduce otro número: 15\n",
      "La suma de los numeros es 25\n",
      "La resta de los numeros es -5\n",
      "La multiplicacion de los numeros es 150\n",
      "La division de los numeros es 0.6666666666666666\n",
      "La exponencial de los numeros es 1000000000000000\n"
     ]
    }
   ],
   "source": [
    "a1 = int(input(\"Introduce un número:\" ))\n",
    "b1 = int(input(\"Introduce otro número: \"))\n",
    "s=a1+b1\n",
    "r=a1-b1\n",
    "m=a1*b1\n",
    "d=a1/b1\n",
    "e=a1**b1\n",
    "print(\"La suma de los numeros es\",s)\n",
    "print(\"La resta de los numeros es\",r)\n",
    "print(\"La multiplicacion de los numeros es\",m)\n",
    "print(\"La division de los numeros es\",d)\n",
    "print(\"La exponencial de los numeros es\",e)\n"
   ]
  },
  {
   "cell_type": "markdown",
   "metadata": {},
   "source": [
    "Ejercicio 3:\n",
    "Con loop while o for, realiza una lista de 10 numeros multiplos de 3, y después realiza una función de loop que sume todos los números dentro del arreglo."
   ]
  },
  {
   "cell_type": "code",
   "execution_count": 25,
   "metadata": {
    "scrolled": true
   },
   "outputs": [
    {
     "name": "stdout",
     "output_type": "stream",
     "text": [
      "Los numeros en la lista son:  [3, 6, 9, 12, 15, 18, 21, 24, 27, 30]\n",
      "La suma de los numeros en la lista es: 165\n"
     ]
    }
   ],
   "source": [
    "lista=list()\n",
    "for i in range(1,11):\n",
    "   lista.append(i*3)\n",
    "print(\"Los numeros en la lista son: \",lista)\n",
    "suma=sum(lista)\n",
    "print(\"La suma de los numeros en la lista es:\",suma)"
   ]
  },
  {
   "cell_type": "markdown",
   "metadata": {},
   "source": [
    "Ejercicio 4\n",
    "Con una función de if else, revisar si un número es par o es impar.\n",
    "Con una función de if else, revisar si un número es primo o no."
   ]
  },
  {
   "cell_type": "code",
   "execution_count": 60,
   "metadata": {},
   "outputs": [
    {
     "name": "stdout",
     "output_type": "stream",
     "text": [
      "Introduce un número:500\n",
      "El numero es par\n",
      "El numero no es primo\n"
     ]
    }
   ],
   "source": [
    "n = int(input(\"Introduce un número:\" ))\n",
    "r= n%2\n",
    "if (r==0):\n",
    "    print(\"El numero es par\")\n",
    "else:\n",
    "    print (\"El numero es impar\")\n",
    "    \n",
    "for i in range(2,n): #codigo de https://www.youtube.com/watch?v=SpTAxH_Geow&ab_channel=Telusko\n",
    "        if n % i ==0:\n",
    "            print(\"El numero no es primo\")\n",
    "            break\n",
    "else:\n",
    "    print(\"El numero es primo \")\n"
   ]
  },
  {
   "cell_type": "markdown",
   "metadata": {},
   "source": [
    "Ejercicio 5\n",
    "Utilizando diferentes clases en python, crea una calculadora con los operadores básicos de suma, resta, multiplicación, división, y exponente."
   ]
  },
  {
   "cell_type": "code",
   "execution_count": 64,
   "metadata": {},
   "outputs": [
    {
     "name": "stdout",
     "output_type": "stream",
     "text": [
      "Introduce un número:15\n",
      "Introduce otro número: 10\n",
      "Suma numeros --> 25\n",
      "Resta de numeros --> 5\n",
      "Multiplicacion de numeros --> 150\n",
      "Division de numeros --> 1.5\n",
      "Exponencial de numeros --> 576650390625\n"
     ]
    }
   ],
   "source": [
    "def Suma(a,b):\n",
    "    c=a+b\n",
    "    return c\n",
    "def Mult(a,b):\n",
    "    d=a*b\n",
    "    return d\n",
    "def Rest(a,b):\n",
    "    e=a-b\n",
    "    return e\n",
    "def Div(a,b):\n",
    "    f=a/b\n",
    "    return f\n",
    "def Exp(a,b):\n",
    "    g=a**b\n",
    "    return g\n",
    "\n",
    "a1 = int(input(\"Introduce un número:\" ))\n",
    "b1 = int(input(\"Introduce otro número: \"))\n",
    "\n",
    "print (\"Suma numeros -->\", Suma(a1,b1))\n",
    "print (\"Resta de numeros -->\", Rest(a1,b1))\n",
    "print (\"Multiplicacion de numeros -->\", Mult(a1,b1))\n",
    "print (\"Division de numeros -->\", Div(a1,b1))\n",
    "print (\"Exponencial de numeros -->\", Exp(a1,b1))"
   ]
  },
  {
   "cell_type": "markdown",
   "metadata": {},
   "source": [
    "# Tuplas"
   ]
  },
  {
   "cell_type": "markdown",
   "metadata": {},
   "source": [
    "Crear una variable flotante, integer, boleana y compleja e imprimir el tipo de variable que es."
   ]
  },
  {
   "cell_type": "code",
   "execution_count": 73,
   "metadata": {},
   "outputs": [
    {
     "name": "stdout",
     "output_type": "stream",
     "text": [
      "z es una variable tipo:  <class 'int'>\n",
      "v es una variable tipo:  <class 'float'>\n",
      "t es una variable tipo:  <class 'bool'>\n",
      "u es una variable tipo:  <class 'complex'>\n"
     ]
    }
   ],
   "source": [
    "z=1\n",
    "v=2.5\n",
    "t=2<1\n",
    "u = 1+2j\n",
    "print(\"z es una variable tipo: \",type(z))\n",
    "print(\"v es una variable tipo: \",type(v))\n",
    "print(\"t es una variable tipo: \",type(t))\n",
    "print(\"u es una variable tipo: \",type(u))"
   ]
  },
  {
   "cell_type": "markdown",
   "metadata": {},
   "source": [
    "Crear una tupla con valores enteros imprimir el primer y ultimo valor.\n",
    "\n"
   ]
  },
  {
   "cell_type": "code",
   "execution_count": 88,
   "metadata": {},
   "outputs": [
    {
     "name": "stdout",
     "output_type": "stream",
     "text": [
      "1 5\n"
     ]
    }
   ],
   "source": [
    ">>> b=(1,2,3,4,5)\n",
    "print(b[0],b[4])\n"
   ]
  },
  {
   "cell_type": "markdown",
   "metadata": {},
   "source": [
    "Añadir 3 valores de string a la tupla."
   ]
  },
  {
   "cell_type": "code",
   "execution_count": 89,
   "metadata": {},
   "outputs": [
    {
     "name": "stdout",
     "output_type": "stream",
     "text": [
      "(1, 2, 3, 4, 5, 'hola', 'adios', 'saludos')\n"
     ]
    }
   ],
   "source": [
    "b=b+(\"hola\",\"adios\",\"saludos\")\n",
    "print(b)"
   ]
  },
  {
   "cell_type": "markdown",
   "metadata": {},
   "source": [
    "Verificar si una variable existe dentro de la tupla.\n",
    "\n"
   ]
  },
  {
   "cell_type": "code",
   "execution_count": 94,
   "metadata": {},
   "outputs": [
    {
     "name": "stdout",
     "output_type": "stream",
     "text": [
      "True\n"
     ]
    }
   ],
   "source": [
    "print( 2 in b)"
   ]
  },
  {
   "cell_type": "markdown",
   "metadata": {},
   "source": [
    "# Listas"
   ]
  },
  {
   "cell_type": "markdown",
   "metadata": {},
   "source": [
    "Crear una lista con 40 elementos aleatorios enteros.\n",
    "\n"
   ]
  },
  {
   "cell_type": "code",
   "execution_count": 109,
   "metadata": {},
   "outputs": [
    {
     "name": "stdout",
     "output_type": "stream",
     "text": [
      "8\n",
      "48\n",
      "74\n",
      "17\n",
      "78\n",
      "13\n",
      "73\n",
      "76\n",
      "82\n",
      "44\n",
      "20\n",
      "79\n",
      "40\n",
      "10\n",
      "49\n",
      "32\n",
      "64\n",
      "77\n",
      "48\n",
      "99\n",
      "3\n",
      "85\n",
      "70\n",
      "17\n",
      "68\n",
      "49\n",
      "39\n",
      "33\n",
      "71\n",
      "15\n",
      "96\n",
      "38\n",
      "49\n",
      "88\n",
      "9\n",
      "23\n",
      "57\n",
      "38\n",
      "39\n"
     ]
    }
   ],
   "source": [
    "import random as r\n",
    "my_list=[]\n",
    "for i in range(1,40):\n",
    "    my_list=[r.randint(1, 100)]\n",
    "    print(my_list)"
   ]
  },
  {
   "cell_type": "markdown",
   "metadata": {},
   "source": [
    "Con una funcion (def) crear dos listas nuevas a partir de la lista creada por numeros aleatorios, en la cual en una esten los elementos pares, y en la otra los elementos impares."
   ]
  },
  {
   "cell_type": "code",
   "execution_count": 256,
   "metadata": {},
   "outputs": [
    {
     "name": "stdout",
     "output_type": "stream",
     "text": [
      "[8, 48, 74, 78, 76, 82, 44, 20, 40, 10, 32, 64, 48, 70, 68, 96, 38, 88, 38]\n"
     ]
    }
   ],
   "source": [
    "lis=[8,48,74,17,78,13,73,76,82,44,20,79,40,10,49,32,64,77,48,99,3,85,70,17,68,49,39,33,71,15,96,38,49,88,9,23,57,38,39]\n",
    "par=[]\n",
    "for i in lis:\n",
    "    if i % 2 == 0:\n",
    "        par.append(i)\n",
    "\n",
    "print(par)\n",
    "\n",
    " "
   ]
  },
  {
   "cell_type": "code",
   "execution_count": 257,
   "metadata": {},
   "outputs": [
    {
     "name": "stdout",
     "output_type": "stream",
     "text": [
      "[17, 13, 73, 79, 49, 77, 99, 3, 85, 17, 49, 39, 33, 71, 15, 49, 9, 23, 57, 39]\n"
     ]
    }
   ],
   "source": [
    "lis=[8,48,74,17,78,13,73,76,82,44,20,79,40,10,49,32,64,77,48,99,3,85,70,17,68,49,39,33,71,15,96,38,49,88,9,23,57,38,39]\n",
    "impar=[]\n",
    "for i in lis:\n",
    "    if i % 2 != 0:\n",
    "        impar.append(i)\n",
    "\n",
    "print(impar)\n"
   ]
  },
  {
   "cell_type": "markdown",
   "metadata": {},
   "source": [
    "Crear dos variables con la longitud de ambas listas nuevas e imprimir las variables."
   ]
  },
  {
   "cell_type": "code",
   "execution_count": 241,
   "metadata": {},
   "outputs": [
    {
     "name": "stdout",
     "output_type": "stream",
     "text": [
      "19\n"
     ]
    }
   ],
   "source": [
    "lis=[8,48,74,17,78,13,73,76,82,44,20,79,40,10,49,32,64,77,48,99,3,85,70,17,68,49,39,33,71,15,96,38,49,88,9,23,57,38,39]\n",
    "par=[]\n",
    "for i in lis:\n",
    "    if i % 2 == 0:\n",
    "        par.append(i)\n",
    "p=len(par)\n",
    "print(p)"
   ]
  },
  {
   "cell_type": "code",
   "execution_count": 243,
   "metadata": {},
   "outputs": [
    {
     "name": "stdout",
     "output_type": "stream",
     "text": [
      "20\n"
     ]
    }
   ],
   "source": [
    "lis=[8,48,74,17,78,13,73,76,82,44,20,79,40,10,49,32,64,77,48,99,3,85,70,17,68,49,39,33,71,15,96,38,49,88,9,23,57,38,39]\n",
    "impar=[]\n",
    "for i in lis:\n",
    "    if i % 2 != 0:\n",
    "        impar.append(i)\n",
    "\n",
    "ip=len(impar)\n",
    "print(ip)"
   ]
  },
  {
   "cell_type": "markdown",
   "metadata": {},
   "source": [
    "Ordenar los elementos de la lista par de mayor a menor, y los de la lista impar de menor a mayor."
   ]
  },
  {
   "cell_type": "code",
   "execution_count": 244,
   "metadata": {},
   "outputs": [
    {
     "name": "stdout",
     "output_type": "stream",
     "text": [
      "[8, 10, 20, 32, 38, 38, 40, 44, 48, 48, 64, 68, 70, 74, 76, 78, 82, 88, 96]\n"
     ]
    }
   ],
   "source": [
    "lis=[8,48,74,17,78,13,73,76,82,44,20,79,40,10,49,32,64,77,48,99,3,85,70,17,68,49,39,33,71,15,96,38,49,88,9,23,57,38,39]\n",
    "par=[]\n",
    "for i in lis:\n",
    "    if i % 2 == 0:\n",
    "        par.append(i)\n",
    "par.sort()\n",
    "print(par)"
   ]
  },
  {
   "cell_type": "code",
   "execution_count": 246,
   "metadata": {},
   "outputs": [
    {
     "name": "stdout",
     "output_type": "stream",
     "text": [
      "[99, 85, 79, 77, 73, 71, 57, 49, 49, 49, 39, 39, 33, 23, 17, 17, 15, 13, 9, 3]\n"
     ]
    }
   ],
   "source": [
    "lis=[8,48,74,17,78,13,73,76,82,44,20,79,40,10,49,32,64,77,48,99,3,85,70,17,68,49,39,33,71,15,96,38,49,88,9,23,57,38,39]\n",
    "impar=[]\n",
    "for i in lis:\n",
    "    if i % 2 != 0:\n",
    "        impar.append(i)\n",
    "\n",
    "impar.sort(reverse=True)\n",
    "print(impar)"
   ]
  },
  {
   "cell_type": "markdown",
   "metadata": {},
   "source": [
    "Utilizar al menos cuatro de las funciones de listas en python en la lista original de 40 elementos."
   ]
  },
  {
   "cell_type": "code",
   "execution_count": 275,
   "metadata": {},
   "outputs": [
    {
     "name": "stdout",
     "output_type": "stream",
     "text": [
      "3\n"
     ]
    }
   ],
   "source": [
    "lis=[8,48,74,17,78,13,73,76,82,44,20,79,40,10,49,32,64,77,48,99,3,85,70,17,68,49,39,33,71,15,96,38,49,88,9,23,57,38,39]\n",
    "print(min(lis))"
   ]
  },
  {
   "cell_type": "code",
   "execution_count": 267,
   "metadata": {},
   "outputs": [
    {
     "name": "stdout",
     "output_type": "stream",
     "text": [
      "[8, 48, 3, 74, 17, 78, 13, 73, 76, 82, 44, 20, 79, 40, 10, 49, 32, 64, 77, 48, 99, 3, 85, 70, 17, 68, 49, 39, 33, 71, 15, 96, 38, 49, 88, 9, 23, 57, 38, 39]\n"
     ]
    }
   ],
   "source": [
    "lis=[8,48,74,17,78,13,73,76,82,44,20,79,40,10,49,32,64,77,48,99,3,85,70,17,68,49,39,33,71,15,96,38,49,88,9,23,57,38,39]\n",
    "lis.reverse\n",
    "print(lis)"
   ]
  },
  {
   "cell_type": "code",
   "execution_count": 268,
   "metadata": {},
   "outputs": [
    {
     "name": "stdout",
     "output_type": "stream",
     "text": [
      "[8, 48, 3, 3, 74, 17, 78, 13, 73, 76, 82, 44, 20, 79, 40, 10, 49, 32, 64, 77, 48, 99, 3, 85, 70, 17, 68, 49, 39, 33, 71, 15, 96, 38, 49, 88, 9, 23, 57, 38, 39]\n"
     ]
    }
   ],
   "source": [
    "lis=[8,48,74,17,78,13,73,76,82,44,20,79,40,10,49,32,64,77,48,99,3,85,70,17,68,49,39,33,71,15,96,38,49,88,9,23,57,38,39]\n",
    "lis.insert(2,3)\n",
    "print(lis)"
   ]
  },
  {
   "cell_type": "code",
   "execution_count": 273,
   "metadata": {},
   "outputs": [
    {
     "name": "stdout",
     "output_type": "stream",
     "text": [
      "99\n"
     ]
    }
   ],
   "source": [
    "lis=[8,48,74,17,78,13,73,76,82,44,20,79,40,10,49,32,64,77,48,99,3,85,70,17,68,49,39,33,71,15,96,38,49,88,9,23,57,38,39]\n",
    "print(max(lis))"
   ]
  },
  {
   "cell_type": "markdown",
   "metadata": {},
   "source": [
    "# Diccionarios"
   ]
  },
  {
   "cell_type": "markdown",
   "metadata": {},
   "source": [
    "Crear un diccionario de 6 personas que conozcas con su primer nombre y su edad.\n",
    "\n"
   ]
  },
  {
   "cell_type": "code",
   "execution_count": 340,
   "metadata": {},
   "outputs": [],
   "source": [
    "dict = {'Mariana':17,'luis':55,'jessica':20,'Blanca': 57,'Alejandro': 20,'Tania':23  }\n",
    "#https://stackabuse.com/python-dictionary-tutorial/#:~:text=To%20create%20a%20Python%20dictionary,the%20keys%20must%20remain%20unique."
   ]
  },
  {
   "cell_type": "markdown",
   "metadata": {},
   "source": [
    "Crear una lista con los valores de la edad y reacomodar la lista de menor a mayor valor.\n",
    "\n",
    "\n"
   ]
  },
  {
   "cell_type": "code",
   "execution_count": 344,
   "metadata": {},
   "outputs": [
    {
     "name": "stdout",
     "output_type": "stream",
     "text": [
      "dict_values([17, 55, 20, 57, 20, 23])\n"
     ]
    }
   ],
   "source": [
    "edades=dict.values()\n",
    "print(edades)"
   ]
  },
  {
   "cell_type": "markdown",
   "metadata": {},
   "source": [
    "Usando el diccionario y un loop, imprimir solo los nombres.\n",
    "\n"
   ]
  },
  {
   "cell_type": "code",
   "execution_count": 348,
   "metadata": {},
   "outputs": [
    {
     "name": "stdout",
     "output_type": "stream",
     "text": [
      "Mariana\n",
      "luis\n",
      "jessica\n",
      "Blanca\n",
      "Alejandro\n",
      "Tania\n"
     ]
    }
   ],
   "source": [
    "for i in dict :\n",
    "    print(i)"
   ]
  },
  {
   "cell_type": "markdown",
   "metadata": {},
   "source": [
    "Añadir dos personas nuevas a tu diccionario, incluyendo edad.\n",
    "\n"
   ]
  },
  {
   "cell_type": "code",
   "execution_count": 349,
   "metadata": {},
   "outputs": [
    {
     "name": "stdout",
     "output_type": "stream",
     "text": [
      "{'Mariana': 17, 'luis': 55, 'jessica': 20, 'Blanca': 57, 'Alejandro': 20, 'Tania': 23, 'Paola': 24, 'Nadia': 27}\n"
     ]
    }
   ],
   "source": [
    "dict['Paola']=24\n",
    "dict['Nadia']=27\n",
    "print(dict)"
   ]
  },
  {
   "cell_type": "markdown",
   "metadata": {},
   "source": [
    "# Sets"
   ]
  },
  {
   "cell_type": "markdown",
   "metadata": {},
   "source": [
    "Crea un set con 100 numeros aleatorios enteros del 1 al 25.\n",
    "\n"
   ]
  },
  {
   "cell_type": "code",
   "execution_count": 322,
   "metadata": {},
   "outputs": [
    {
     "name": "stdout",
     "output_type": "stream",
     "text": [
      "{23}\n",
      "{2}\n",
      "{9}\n",
      "{22}\n",
      "{18}\n",
      "{17}\n",
      "{25}\n",
      "{23}\n",
      "{5}\n",
      "{6}\n",
      "{3}\n",
      "{10}\n",
      "{10}\n",
      "{4}\n",
      "{11}\n",
      "{4}\n",
      "{2}\n",
      "{5}\n",
      "{9}\n",
      "{17}\n",
      "{3}\n",
      "{16}\n",
      "{12}\n",
      "{13}\n",
      "{11}\n",
      "{18}\n",
      "{7}\n",
      "{7}\n",
      "{9}\n",
      "{2}\n",
      "{16}\n",
      "{8}\n",
      "{6}\n",
      "{6}\n",
      "{10}\n",
      "{10}\n",
      "{5}\n",
      "{10}\n",
      "{22}\n",
      "{3}\n",
      "{17}\n",
      "{15}\n",
      "{7}\n",
      "{17}\n",
      "{3}\n",
      "{10}\n",
      "{24}\n",
      "{16}\n",
      "{2}\n",
      "{2}\n",
      "{5}\n",
      "{24}\n",
      "{15}\n",
      "{24}\n",
      "{19}\n",
      "{15}\n",
      "{13}\n",
      "{10}\n",
      "{14}\n",
      "{10}\n",
      "{15}\n",
      "{7}\n",
      "{9}\n",
      "{10}\n",
      "{15}\n",
      "{17}\n",
      "{14}\n",
      "{7}\n",
      "{7}\n",
      "{1}\n",
      "{1}\n",
      "{4}\n",
      "{18}\n",
      "{5}\n",
      "{6}\n",
      "{11}\n",
      "{2}\n",
      "{10}\n",
      "{19}\n",
      "{2}\n",
      "{14}\n",
      "{11}\n",
      "{12}\n",
      "{4}\n",
      "{18}\n",
      "{16}\n",
      "{2}\n",
      "{14}\n",
      "{6}\n",
      "{15}\n",
      "{8}\n",
      "{23}\n",
      "{5}\n",
      "{13}\n",
      "{14}\n",
      "{12}\n",
      "{11}\n",
      "{23}\n",
      "{24}\n",
      "{13}\n"
     ]
    }
   ],
   "source": [
    "import random as r\n",
    "set={}\n",
    "for i in range(0,100):\n",
    "    set={r.randint(1, 25)}\n",
    "    print(set)"
   ]
  },
  {
   "cell_type": "code",
   "execution_count": 331,
   "metadata": {},
   "outputs": [
    {
     "data": {
      "text/plain": [
       "{1,\n",
       " 2,\n",
       " 3,\n",
       " 4,\n",
       " 5,\n",
       " 6,\n",
       " 7,\n",
       " 8,\n",
       " 9,\n",
       " 10,\n",
       " 11,\n",
       " 12,\n",
       " 13,\n",
       " 14,\n",
       " 15,\n",
       " 16,\n",
       " 17,\n",
       " 18,\n",
       " 19,\n",
       " 22,\n",
       " 23,\n",
       " 24,\n",
       " 25}"
      ]
     },
     "execution_count": 331,
     "metadata": {},
     "output_type": "execute_result"
    }
   ],
   "source": [
    "set={23,2,9,22,18,17,25,23,5,6,3,10,10,4,11,4,2,5,9,17,\n",
    "     3,16,12,13,11,18,7,7,9,2,16,8,6,6,10,10,5,10,22,3,\n",
    "     17,15,7,17,3,10,24,16,2,2,5,24,15,24,19,15,13,10,14\n",
    "     ,10,15,7,9,10,15,17,14,7,7,1,1,4,18,5,6,11,2,10,19,2,\n",
    "     14,11,12,4,18,16,2,14,6,15,8,23,5,13,14,12,11,23,24,13}\n",
    "set"
   ]
  },
  {
   "cell_type": "markdown",
   "metadata": {},
   "source": [
    "Comprueba la longitud de tu set.\n",
    "\n"
   ]
  },
  {
   "cell_type": "code",
   "execution_count": 332,
   "metadata": {},
   "outputs": [
    {
     "data": {
      "text/plain": [
       "23"
      ]
     },
     "execution_count": 332,
     "metadata": {},
     "output_type": "execute_result"
    }
   ],
   "source": [
    "len(set)"
   ]
  },
  {
   "cell_type": "markdown",
   "metadata": {},
   "source": [
    "Crea una lista de 5 numeros aleatorios del 1 al 10 y comprueba si cada valor aparece en el set inicial.\n",
    "\n"
   ]
  },
  {
   "cell_type": "code",
   "execution_count": 336,
   "metadata": {},
   "outputs": [
    {
     "name": "stdout",
     "output_type": "stream",
     "text": [
      "[3]\n",
      "[2]\n",
      "[5]\n",
      "[5]\n",
      "[9]\n"
     ]
    }
   ],
   "source": [
    "import random as r\n",
    "l=list()\n",
    "for i in range(0,5):\n",
    "    l=[r.randint(1, 10)]\n",
    "    print(l)"
   ]
  },
  {
   "cell_type": "code",
   "execution_count": 339,
   "metadata": {},
   "outputs": [
    {
     "name": "stdout",
     "output_type": "stream",
     "text": [
      "Los numeros que las listas tienen en comun son: {9, 2, 3, 5}\n"
     ]
    }
   ],
   "source": [
    "l=(3,2,5,5,9)\n",
    "set.intersection( l )\n",
    "\n",
    "print(\"Los numeros que las listas tienen en comun son:\",set.intersection( l ))"
   ]
  },
  {
   "cell_type": "code",
   "execution_count": null,
   "metadata": {},
   "outputs": [],
   "source": []
  }
 ],
 "metadata": {
  "kernelspec": {
   "display_name": "Python 3",
   "language": "python",
   "name": "python3"
  },
  "language_info": {
   "codemirror_mode": {
    "name": "ipython",
    "version": 3
   },
   "file_extension": ".py",
   "mimetype": "text/x-python",
   "name": "python",
   "nbconvert_exporter": "python",
   "pygments_lexer": "ipython3",
   "version": "3.8.3"
  }
 },
 "nbformat": 4,
 "nbformat_minor": 4
}
